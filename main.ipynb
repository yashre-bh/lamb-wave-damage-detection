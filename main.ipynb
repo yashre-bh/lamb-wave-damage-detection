{
 "cells": [
  {
   "cell_type": "code",
   "execution_count": 45,
   "metadata": {},
   "outputs": [],
   "source": [
    "import torch\n",
    "import torch.nn as nn"
   ]
  },
  {
   "cell_type": "code",
   "execution_count": 46,
   "metadata": {},
   "outputs": [],
   "source": [
    "DEVICE = torch.cuda.device(\"cuda:0\" if torch.cuda.is_available else \"cpu\")\n",
    "EPOCHS = 10\n",
    "TIMESTEP = 2000\n",
    "LR = 3e-4\n",
    "BATCH_SIZE = 10\n",
    "NUM_WORKERS = 2"
   ]
  },
  {
   "cell_type": "code",
   "execution_count": 76,
   "metadata": {},
   "outputs": [],
   "source": [
    "class Convolute(nn.Module):\n",
    "    def __init__(self, in_filters, out_filters, kernel_size, dropout=0.0, maxpool=0):\n",
    "        super().__init__()\n",
    "        self.conv = nn.Sequential(\n",
    "            nn.Conv1d(in_filters, out_filters, kernel_size),\n",
    "            nn.BatchNorm1d(out_filters),\n",
    "            nn.ReLU()\n",
    "        )\n",
    "        if dropout!=0: self.conv.append(nn.Dropout(dropout))\n",
    "        if maxpool!=0: self.conv.append(nn.MaxPool1d(maxpool))\n",
    "\n",
    "    def forward(self, x):\n",
    "        return self.conv(x)\n",
    "\n",
    "class DNF(nn.Module):\n",
    "    def __init__(self, in_filters, out_filters, do_transpose=False, do_flatten=False):\n",
    "        super().__init__()\n",
    "        self.do_transpose = do_transpose\n",
    "        self.dnf = nn.Sequential(nn.Linear(in_filters, out_filters))\n",
    "        if do_flatten: self.dnf.append(nn.Flatten())\n",
    "    \n",
    "    def forward(self, x):\n",
    "        if self.do_transpose: x = torch.transpose(x, 2, 1)\n",
    "        return self.dnf(x)\n",
    "    "
   ]
  },
  {
   "cell_type": "code",
   "execution_count": 84,
   "metadata": {},
   "outputs": [
    {
     "data": {
      "text/plain": [
       "torch.Size([1, 150])"
      ]
     },
     "execution_count": 84,
     "metadata": {},
     "output_type": "execute_result"
    }
   ],
   "source": [
    "x1=torch.randn(1, 2, 1925)\n",
    "head1 = []\n",
    "head1.append(Convolute(2, 576, 11))\n",
    "head1.append(Convolute(576, 484, 11, 0.3, 4))\n",
    "head1.append(Convolute(484, 400, 5))\n",
    "head1.append(Convolute(400, 324, 5, 0.2))\n",
    "head1.append(DNF(324, 256, True, True))\n",
    "head1.append(DNF(119808, 150))\n",
    "for obj in head1: x1=obj(x1)\n",
    "x1.shape"
   ]
  },
  {
   "cell_type": "code",
   "execution_count": 85,
   "metadata": {},
   "outputs": [
    {
     "data": {
      "text/plain": [
       "torch.Size([1, 150])"
      ]
     },
     "execution_count": 85,
     "metadata": {},
     "output_type": "execute_result"
    }
   ],
   "source": [
    "x2=torch.randn(1, 2, 1925)\n",
    "head2 = []\n",
    "head2.append(Convolute(2, 576, 11))\n",
    "head2.append(Convolute(576, 484, 11, 0.3, 4))\n",
    "head2.append(Convolute(484, 400, 5))\n",
    "head2.append(Convolute(400, 324, 5, 0.2))\n",
    "head2.append(DNF(324, 256, True, True))\n",
    "head2.append(DNF(119808, 150))\n",
    "for obj in head2: x2=obj(x2)\n",
    "x2.shape"
   ]
  },
  {
   "cell_type": "code",
   "execution_count": 87,
   "metadata": {},
   "outputs": [
    {
     "data": {
      "text/plain": [
       "torch.Size([1, 300])"
      ]
     },
     "execution_count": 87,
     "metadata": {},
     "output_type": "execute_result"
    }
   ],
   "source": [
    "x = torch.cat([x1, x2], dim=1)\n",
    "x.shape"
   ]
  },
  {
   "cell_type": "code",
   "execution_count": null,
   "metadata": {},
   "outputs": [],
   "source": []
  }
 ],
 "metadata": {
  "kernelspec": {
   "display_name": "lbp",
   "language": "python",
   "name": "python3"
  },
  "language_info": {
   "codemirror_mode": {
    "name": "ipython",
    "version": 3
   },
   "file_extension": ".py",
   "mimetype": "text/x-python",
   "name": "python",
   "nbconvert_exporter": "python",
   "pygments_lexer": "ipython3",
   "version": "3.10.9"
  },
  "orig_nbformat": 4,
  "vscode": {
   "interpreter": {
    "hash": "5ca05d5b013b6acfe4e897f654a2a6ca558fd0f228b242f8f9d0c928cdeb5790"
   }
  }
 },
 "nbformat": 4,
 "nbformat_minor": 2
}
